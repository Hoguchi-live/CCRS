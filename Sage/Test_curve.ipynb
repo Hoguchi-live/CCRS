{
 "cells": [
  {
   "cell_type": "code",
   "execution_count": 9,
   "id": "0e5bb6ff",
   "metadata": {},
   "outputs": [
    {
     "data": {
      "text/plain": [
       "Elliptic Curve defined by y^2 = x^3 + 10861338504649280383859950140772947007703646408372831934324660566888732797778932142488253565145603672591944602210571423767689240032829444439469242521864171*x^2 + x over Finite Field of size 12037340738208845034383383978222801137092029451270197923071397735408251586669938291587857560356890516069961904754171956588530344066457839297755929645858769"
      ]
     },
     "execution_count": 9,
     "metadata": {},
     "output_type": "execute_result"
    }
   ],
   "source": [
    "p = 12037340738208845034383383978222801137092029451270197923071397735408251586669938291587857560356890516069961904754171956588530344066457839297755929645858769\n",
    "d = 1\n",
    "A = 10861338504649280383859950140772947007703646408372831934324660566888732797778932142488253565145603672591944602210571423767689240032829444439469242521864171\n",
    "\n",
    "F = GF(p^d)\n",
    "E = EllipticCurve(F, [0, F(A), 0, 1, 0])\n",
    "E"
   ]
  },
  {
   "cell_type": "code",
   "execution_count": 8,
   "id": "8b0a9c54",
   "metadata": {},
   "outputs": [
    {
     "data": {
      "text/plain": [
       "132587905732111791814931339116520099586978126272834183842604391087132230748774895899437649985696901841186824102177194162001096436626480916767002134346799"
      ]
     },
     "execution_count": 8,
     "metadata": {},
     "output_type": "execute_result"
    }
   ],
   "source": [
    "E.j_invariant()"
   ]
  },
  {
   "cell_type": "code",
   "execution_count": 12,
   "id": "bca501f2",
   "metadata": {},
   "outputs": [
    {
     "data": {
      "text/plain": [
       "8943822736482191854787882351696653696409471458696288030933325489703854813292360090054083720151887877950066358041551201511440281391246188183996534073367186"
      ]
     },
     "execution_count": 12,
     "metadata": {},
     "output_type": "execute_result"
    }
   ],
   "source": [
    "F(256)*(F(A)^2-3)^3"
   ]
  },
  {
   "cell_type": "code",
   "execution_count": 18,
   "id": "79cd877c",
   "metadata": {},
   "outputs": [
    {
     "data": {
      "text/plain": [
       "10701736936190723928478612181890005382007807003934128770092358630299181122301416471792231905986088950610798107113773911938645175090489969799985145479477678"
      ]
     },
     "execution_count": 18,
     "metadata": {},
     "output_type": "execute_result"
    }
   ],
   "source": [
    "F(A)^2"
   ]
  }
 ],
 "metadata": {
  "kernelspec": {
   "display_name": "SageMath 9.4",
   "language": "sage",
   "name": "sagemath"
  },
  "language_info": {
   "codemirror_mode": {
    "name": "ipython",
    "version": 3
   },
   "file_extension": ".py",
   "mimetype": "text/x-python",
   "name": "python",
   "nbconvert_exporter": "python",
   "pygments_lexer": "ipython3",
   "version": "3.10.1"
  }
 },
 "nbformat": 4,
 "nbformat_minor": 5
}
