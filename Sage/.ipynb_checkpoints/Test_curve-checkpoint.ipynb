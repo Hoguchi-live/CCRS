{
 "cells": [
  {
   "cell_type": "code",
   "execution_count": 1,
   "id": "0e5bb6ff",
   "metadata": {},
   "outputs": [],
   "source": [
    "p = 12037340738208845034383383978222801137092029451270197923071397735408251586669938291587857560356890516069961904754171956588530344066457839297755929645858769\n",
    "d = 1\n",
    "A = 10861338504649280383859950140772947007703646408372831934324660566888732797778932142488253565145603672591944602210571423767689240032829444439469242521864171\n",
    "F = GF(p^d)\n",
    "\n",
    "E = EllipticCurve([F(1),F(7)])"
   ]
  },
  {
   "cell_type": "code",
   "execution_count": 2,
   "id": "8b0a9c54",
   "metadata": {},
   "outputs": [
    {
     "data": {
      "text/plain": [
       "8064201896207734163953902303421303851450500514076266732185736689357901778861774786150418516320479026967743883441189803622610004427340632355467235459810439"
      ]
     },
     "execution_count": 2,
     "metadata": {},
     "output_type": "execute_result"
    }
   ],
   "source": [
    "E.j_invariant()"
   ]
  }
 ],
 "metadata": {
  "kernelspec": {
   "display_name": "SageMath 9.4",
   "language": "sage",
   "name": "sagemath"
  },
  "language_info": {
   "codemirror_mode": {
    "name": "ipython",
    "version": 3
   },
   "file_extension": ".py",
   "mimetype": "text/x-python",
   "name": "python",
   "nbconvert_exporter": "python",
   "pygments_lexer": "ipython3",
   "version": "3.10.1"
  }
 },
 "nbformat": 4,
 "nbformat_minor": 5
}
