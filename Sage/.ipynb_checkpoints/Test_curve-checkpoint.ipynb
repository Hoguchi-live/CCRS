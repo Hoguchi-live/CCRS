{
 "cells": [
  {
   "cell_type": "code",
   "execution_count": 2,
   "id": "0e5bb6ff",
   "metadata": {},
   "outputs": [],
   "source": [
    "p = 19\n",
    "d = 2\n",
    "F = GF(p^d)\n",
    "\n",
    "E = EllipticCurve([F(1),F(7)])"
   ]
  },
  {
   "cell_type": "code",
   "execution_count": 3,
   "id": "8b0a9c54",
   "metadata": {},
   "outputs": [
    {
     "data": {
      "text/plain": [
       "14"
      ]
     },
     "execution_count": 3,
     "metadata": {},
     "output_type": "execute_result"
    }
   ],
   "source": [
    "E.j_invariant()"
   ]
  }
 ],
 "metadata": {
  "kernelspec": {
   "display_name": "SageMath 9.4",
   "language": "sage",
   "name": "sagemath"
  },
  "language_info": {
   "codemirror_mode": {
    "name": "ipython",
    "version": 3
   },
   "file_extension": ".py",
   "mimetype": "text/x-python",
   "name": "python",
   "nbconvert_exporter": "python",
   "pygments_lexer": "ipython3",
   "version": "3.9.9"
  }
 },
 "nbformat": 4,
 "nbformat_minor": 5
}
