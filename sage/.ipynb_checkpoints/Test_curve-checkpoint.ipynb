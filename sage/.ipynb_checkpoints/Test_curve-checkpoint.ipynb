{
 "cells": [
  {
   "cell_type": "code",
   "execution_count": 1,
   "id": "0e5bb6ff",
   "metadata": {},
   "outputs": [
    {
     "data": {
      "text/plain": [
       "10583906957008022565930022649086329525319816469693651267377715036753794976259397125732908285627933909828890233451623658797175073643366161860918678603734392"
      ]
     },
     "execution_count": 1,
     "metadata": {},
     "output_type": "execute_result"
    }
   ],
   "source": [
    "p = 12037340738208845034383383978222801137092029451270197923071397735408251586669938291587857560356890516069961904754171956588530344066457839297755929645858769\n",
    "d = 1\n",
    "A = 10861338504649280383859950140772947007703646408372831934324660566888732797778932142488253565145603672591944602210571423767689240032829444439469242521864171\n",
    "\n",
    "F = GF(p^d)\n",
    "E = EllipticCurve(F, [0, F(A), 0, 1, 0])\n",
    "#card = E.cardinality(extension_degree=1)\n",
    "j = E.j_invariant()\n",
    "\n",
    "AA = F(A)\n",
    "bb =AA^2 * (AA-1)\n",
    "cc =AA * (AA-1)\n",
    "E_test = EllipticCurve(F, [1-cc, -bb, -bb, 0, 0])\n",
    "E_test.j_invariant()"
   ]
  },
  {
   "cell_type": "code",
   "execution_count": null,
   "id": "ff6dd412",
   "metadata": {},
   "outputs": [],
   "source": []
  },
  {
   "cell_type": "markdown",
   "id": "d791cc24",
   "metadata": {},
   "source": [
    "Tate-normal test"
   ]
  },
  {
   "cell_type": "markdown",
   "id": "4b2dd3c9",
   "metadata": {},
   "source": [
    "Tate-normal conversion MG->TN"
   ]
  },
  {
   "cell_type": "code",
   "execution_count": 96,
   "id": "b6137dbb",
   "metadata": {},
   "outputs": [],
   "source": [
    "#5-torsion point x-coordinate\n",
    "x = F(6714257535190311469058505831163066546639113188049406668016148216802229952393745485513488323234925878197911327993544206876221379911237178526514902239294965)"
   ]
  },
  {
   "cell_type": "code",
   "execution_count": 97,
   "id": "dc577e28",
   "metadata": {},
   "outputs": [],
   "source": [
    "# extract y^2\n",
    "y2 = x^3 + A*x^2 + x #ok"
   ]
  },
  {
   "cell_type": "code",
   "execution_count": 98,
   "id": "25e94a0d",
   "metadata": {},
   "outputs": [],
   "source": [
    "# b tmp\n",
    "b2 = 3*x + A \n",
    "b3_ = 4*y2\n",
    "b4 = 3*x^2 + 2*A*x + 1\n",
    "c2 = b2 - b4^2 / b3_"
   ]
  },
  {
   "cell_type": "code",
   "execution_count": 100,
   "id": "c4c81936",
   "metadata": {},
   "outputs": [
    {
     "name": "stdout",
     "output_type": "stream",
     "text": [
      "8660845500566622951656296225895598693599275158816869700884544571213820832275714424510480846763855411133406756988442604901553602443211264689866137205990327\n"
     ]
    }
   ],
   "source": [
    "b = -c2^3 / b3_\n",
    "c = 1 - 2*(b4/b3_ * c2)\n",
    "print(b)"
   ]
  },
  {
   "cell_type": "markdown",
   "id": "92a719de",
   "metadata": {},
   "source": [
    "Tests j-invariant TN"
   ]
  },
  {
   "cell_type": "code",
   "execution_count": 101,
   "id": "f71b6f8d",
   "metadata": {},
   "outputs": [
    {
     "data": {
      "text/plain": [
       "132587905732111791814931339116520099586978126272834183842604391087132230748774895899437649985696901841186824102177194162001096436626480916767002134346799"
      ]
     },
     "execution_count": 101,
     "metadata": {},
     "output_type": "execute_result"
    }
   ],
   "source": [
    "a1, a2, a3, a4, a6 = F(1-c), F(-b), F(-b), 0, 0\n",
    "\n",
    "F = GF(p^d)\n",
    "E = EllipticCurve(F, [a1, a2, a3, a4, a6])\n",
    "E.j_invariant()"
   ]
  },
  {
   "cell_type": "markdown",
   "id": "2ea88b0d",
   "metadata": {},
   "source": [
    "Test C j-invariant TN"
   ]
  },
  {
   "cell_type": "code",
   "execution_count": 30,
   "id": "40112941",
   "metadata": {
    "scrolled": true
   },
   "outputs": [
    {
     "name": "stdout",
     "output_type": "stream",
     "text": [
      "10753861862557066429304319208911358532797888169671229794428615778672042102855458401555554209813267493274351686419265945058789285871574396635222617485925971\n",
      "5908726412554801050052264425498147452426146158674786606565747693108139917554277357756528202204982484661537852344791143212435921821799362893529584932442529\n",
      "2532231174912578967325176673170945008933391866221458384378894528913709163160053490679151488611947379724982704579061791525459180198552788285639792492574087\n"
     ]
    }
   ],
   "source": [
    "b2 = a1^2+4*a2 #ok\n",
    "print(b2)\n",
    "b4 = a1*a3 #ok\n",
    "print(b4)\n",
    "b6 = a3^2 #ok\n",
    "print(b6)\n",
    "b8 = a2*a3^2 #ok\n",
    "c4 = b2^2-24*b4 #ok\n",
    "c6 = -b2^3 + 36*b2*b4 - 216*b6 #ok\n",
    "delta = -b2^2*b8 - 8*b4^3 - 27*b6^2 + 9*b2*b4*b6 #ok"
   ]
  },
  {
   "cell_type": "code",
   "execution_count": 73,
   "id": "469d70a4",
   "metadata": {},
   "outputs": [
    {
     "name": "stdout",
     "output_type": "stream",
     "text": [
      "11900105345366388829473623683554384252983944458512462682506385469611277878471801909262594105185254590327230830942541496702001622160669226685597322057516105\n"
     ]
    }
   ],
   "source": [
    "j = c4^3 / delta #ok\n",
    "test = 1728*delta - (c4^3 - c6^2) #ok\n",
    "print(j)"
   ]
  },
  {
   "cell_type": "markdown",
   "id": "00e23bb5",
   "metadata": {},
   "source": [
    "Going up TN -> MG"
   ]
  },
  {
   "cell_type": "code",
   "execution_count": 133,
   "id": "4efc5056",
   "metadata": {},
   "outputs": [],
   "source": [
    "b2 = (1-c)^2 / 4 -b\n",
    "b4 = (c-1)*b/2\n",
    "b6 = b^2/4"
   ]
  },
  {
   "cell_type": "code",
   "execution_count": 138,
   "id": "a7ff8d1a",
   "metadata": {
    "scrolled": true
   },
   "outputs": [
    {
     "name": "stdout",
     "output_type": "stream",
     "text": [
      "[(7462789949450932695620374038371835606282246905291836075128419768909425920498046775604393231313568437288021365223471081098162248436320989028424535434429452, 1), (6850504746178323092941441075297900162495180813019592282009782386657086504577892451247034349615984479079720554141283449665027132107444317875339142966935538, 1), (4063586130596956414283027045992326587934151778993610559629589936729917325882588183038434597241688613436103492350229907002041400104642312708503544107406363, 1)]\n"
     ]
    }
   ],
   "source": [
    "A.<X> = PolynomialRing(F)\n",
    "P = X^3 + b2*X^2 + b4*X + b6\n",
    "r = [u[0] for u in P.roots()]\n",
    "print(P.roots())"
   ]
  },
  {
   "cell_type": "code",
   "execution_count": 128,
   "id": "8e5a6acd",
   "metadata": {},
   "outputs": [
    {
     "name": "stdout",
     "output_type": "stream",
     "text": [
      "False\n",
      "False\n",
      "True\n",
      "found x=  4063586130596956414283027045992326587934151778993610559629589936729917325882588183038434597241688613436103492350229907002041400104642312708503544107406363\n",
      "found x=  4063586130596956414283027045992326587934151778993610559629589936729917325882588183038434597241688613436103492350229907002041400104642312708503544107406363\n"
     ]
    }
   ],
   "source": [
    "for x in r:\n",
    "    d2 = 3*x + b2\n",
    "    d4 = 3*x^2 + 2*b2*x + b4\n",
    "    \n",
    "    tmp = d4\n",
    "    Q = X^2 - tmp\n",
    "    \n",
    "    T = P.derivative()\n",
    "    print(T(x).is_square())\n",
    "    \n",
    "    rr = [r[0] for r in Q.roots()]\n",
    "    if len(rr):\n",
    "        for alpha in rr:\n",
    "            e2 = d2 / alpha\n",
    "            e4 = 1\n",
    "            G = EllipticCurve(F, [0, d2, 0, d4, 0])\n",
    "            tmp2 = alpha^3\n",
    "            print(\"found x= \", x)\n",
    "            #print(G.j_invariant())\n",
    "            #print(tmp2.is_square())\n",
    "    else:\n",
    "        pass\n",
    "        #print(\"failed: no roots for d4\")"
   ]
  },
  {
   "cell_type": "markdown",
   "id": "4bb1edb2",
   "metadata": {},
   "source": [
    "Radical isogeny"
   ]
  },
  {
   "cell_type": "code",
   "execution_count": 25,
   "id": "aa5c3594",
   "metadata": {},
   "outputs": [],
   "source": [
    "import time"
   ]
  },
  {
   "cell_type": "code",
   "execution_count": 23,
   "id": "81a737e7",
   "metadata": {},
   "outputs": [],
   "source": [
    "rho = F(4063586130596956414283027045992326587934151778993610559629589936729917325882588183038434597241688613436103492350229907002041400104642312708503544107406363)"
   ]
  },
  {
   "cell_type": "markdown",
   "id": "05347c6a",
   "metadata": {},
   "source": [
    "Benchmark for l = 5"
   ]
  },
  {
   "cell_type": "code",
   "execution_count": 104,
   "id": "7a1185b5",
   "metadata": {},
   "outputs": [
    {
     "name": "stdout",
     "output_type": "stream",
     "text": [
      "Delta_t =  0.22390437126159668\n",
      "870163258101705376039839880164583038687352756719659194018114799603979110027065708711019323445867756570007084151726180048676153338836698666809964412562281\n",
      "Correct?   False\n"
     ]
    }
   ],
   "source": [
    "timer_start = time.time()\n",
    "A.<X> = PolynomialRing(F)\n",
    "P = X^5 - rho\n",
    "roots = P.factor()\n",
    "\n",
    "r = -1\n",
    "flag = 1\n",
    "i = 0\n",
    "while flag and i < len(roots):\n",
    "    if roots[i][0].degree() == 1: \n",
    "        r = roots[i][0][0]\n",
    "        flag = 0\n",
    "    i += 1\n",
    "if alpha ^ 7 != rho: alpha = -alpha\n",
    "timer_stop = time.time()\n",
    "print(\"Delta_t = \", timer_stop - timer_start)\n",
    "print(alpha)\n",
    "print(\"Correct?  \", alpha^7 == rho )"
   ]
  },
  {
   "cell_type": "markdown",
   "id": "1dd7708a",
   "metadata": {},
   "source": [
    "Benchmark for l = 7"
   ]
  },
  {
   "cell_type": "code",
   "execution_count": 106,
   "id": "31c0c2dd",
   "metadata": {},
   "outputs": [
    {
     "name": "stdout",
     "output_type": "stream",
     "text": [
      "Delta_t =  0.0002765655517578125\n",
      "5745769286361988513652099828474493709454615775311347945622764565377281052051252120071144521738631114664379907206188591095265447957711531024232969751949190\n",
      "Correct?   True\n"
     ]
    }
   ],
   "source": [
    "timer_start = time.time()\n",
    "e = (p+1) // 14\n",
    "alpha = rho^e\n",
    "if alpha ^ 7 != rho: alpha = -alpha\n",
    "timer_stop = time.time()\n",
    "print(\"Delta_t = \", timer_stop - timer_start)\n",
    "print(alpha)\n",
    "print(\"Correct?  \", alpha^7 == rho )"
   ]
  },
  {
   "cell_type": "code",
   "execution_count": 81,
   "id": "fd70fb7d",
   "metadata": {
    "scrolled": true
   },
   "outputs": [
    {
     "name": "stdout",
     "output_type": "stream",
     "text": [
      "Delta_t =  0.22347283363342285\n",
      "7386850970514101397610809570454852967514810093351741023505330789015286620758616388534166840564285535099566822026219863137501370730121176999837157839430476\n",
      "Correct?   True\n"
     ]
    }
   ],
   "source": [
    "timer_start = time.time()\n",
    "A.<X> = PolynomialRing(F)\n",
    "P = X^7 - rho\n",
    "roots = P.factor()\n",
    "\n",
    "alpha = -1\n",
    "flag = 1\n",
    "i = 0\n",
    "while flag and i < len(roots):\n",
    "    if roots[i][0].degree() == 1: \n",
    "        alpha = roots[i][0][0]\n",
    "        flag = 0\n",
    "    i += 1\n",
    "if alpha ^ 7 != rho: alpha = -alpha\n",
    "timer_stop = time.time()\n",
    "print(\"Delta_t = \", timer_stop - timer_start)\n",
    "print(alpha)\n",
    "print(\"Correct?  \", alpha^7 == rho )"
   ]
  },
  {
   "cell_type": "markdown",
   "id": "2d83f008",
   "metadata": {},
   "source": [
    "Extract 5th root of rho = b "
   ]
  },
  {
   "cell_type": "code",
   "execution_count": 108,
   "id": "1e224205",
   "metadata": {},
   "outputs": [],
   "source": [
    "rho = F(278071940052167363541916893409383053193338981619097403269936234073295024769045591909976166782909968738157919014444476563459010154883669039842539743515129)"
   ]
  },
  {
   "cell_type": "code",
   "execution_count": 109,
   "id": "d557a96b",
   "metadata": {},
   "outputs": [
    {
     "name": "stdout",
     "output_type": "stream",
     "text": [
      "Delta_t =  0.00027370452880859375\n",
      "11167177480107139658343544098058218098404676694550538729053282935804272476642872582876838236911022759499954820602445776539854190727621140630945965233296488\n",
      "Correct?   True\n"
     ]
    }
   ],
   "source": [
    "timer_start = time.time()\n",
    "e = (p+1) // 10\n",
    "alpha = rho^l\n",
    "if alpha ^ 5 != rho: alpha = -alpha\n",
    "timer_stop = time.time()\n",
    "print(\"Delta_t = \", timer_stop - timer_start)\n",
    "print(alpha)\n",
    "print(\"Correct?  \", alpha^5 == rho )"
   ]
  },
  {
   "cell_type": "markdown",
   "id": "d0066b2b",
   "metadata": {},
   "source": [
    "Test radical formula for 5"
   ]
  },
  {
   "cell_type": "code",
   "execution_count": 120,
   "id": "6ca41dc1",
   "metadata": {},
   "outputs": [
    {
     "data": {
      "text/plain": [
       "5891545102879224111635612704192009848961015335888970782871603685833323887061701724902686039181505876415021368402453456759222790659566378349399383733059370"
      ]
     },
     "execution_count": 120,
     "metadata": {},
     "output_type": "execute_result"
    }
   ],
   "source": [
    "A.<X> = PolynomialRing(F)\n",
    "P = X^4 + 3*X^3 + 4*X^2 + 2*X + 1\n",
    "Q = X^4 - 2*X^3 + 4*X^2 - 3*X + 1\n",
    "b_ = alpha * P(alpha) / Q(alpha)\n",
    "c_ = b_\n",
    "E_ = EllipticCurve(F, [1-c_, -b_, -b_,0, 0])\n",
    "E_.j_invariant()"
   ]
  },
  {
   "cell_type": "markdown",
   "id": "edbd2b17",
   "metadata": {},
   "source": [
    "Test radical for 7"
   ]
  },
  {
   "cell_type": "code",
   "execution_count": 23,
   "id": "92834d0e",
   "metadata": {},
   "outputs": [
    {
     "data": {
      "text/plain": [
       "False"
      ]
     },
     "execution_count": 23,
     "metadata": {},
     "output_type": "execute_result"
    }
   ],
   "source": [
    "y2 = xx^3 + F(A)*xx^2 + xx\n",
    "y2.is_square()"
   ]
  },
  {
   "cell_type": "code",
   "execution_count": 70,
   "id": "20172a48",
   "metadata": {},
   "outputs": [],
   "source": [
    "p = 12037340738208845034383383978222801137092029451270197923071397735408251586669938291587857560356890516069961904754171956588530344066457839297755929645858769\n",
    "d = 1\n",
    "A = 6994408703168739098746713699616203766621720654593622191587805269977974214071997593327742781251142902555902895849326720402577188961785807254661257646688533\n",
    "\n",
    "L = FiniteField(p^2, 'g', proof=False)\n",
    "EE = EllipticCurve(L, [0, L(A), 0, 1, 0])\n",
    "#card = EE.cardinality(extension_degree=1)"
   ]
  },
  {
   "cell_type": "code",
   "execution_count": 56,
   "id": "3144a8d8",
   "metadata": {},
   "outputs": [],
   "source": [
    "x = L(10653136630001047316022337480038881692291034382990068366611980260666579338636674740551296245144542057334407848044536130203135040894459837109103150262192749)"
   ]
  },
  {
   "cell_type": "code",
   "execution_count": 72,
   "id": "d8ea709e",
   "metadata": {},
   "outputs": [
    {
     "name": "stdout",
     "output_type": "stream",
     "text": [
      "E=\n",
      "Elliptic Curve defined by y^2 = x^3 + 6994408703168739098746713699616203766621720654593622191587805269977974214071997593327742781251142902555902895849326720402577188961785807254661257646688533*x^2 + x over Finite Field in g of size 12037340738208845034383383978222801137092029451270197923071397735408251586669938291587857560356890516069961904754171956588530344066457839297755929645858769^2\n",
      "Card(E(Fp^2))=\n",
      "144897572047742262324667853591102254772062193538601466969711875295854287227066433214044354977436961616837188295897731975498806971733398923003006037967085702476374484139156227501890758305204666564931310543662400501476683485221248287111972406214914673751368227992355778470649421312082219032810246773276032000800\n",
      "Cofactor=\n",
      "2957093307096780863768731705940862342286983541604111570810446434609271167899314963551925611784427788098718128487708815826506264729253039244959306897287463315844377227329718928610015475616421766631251235584946949009728234392270373206366783800304381096966698530456240376952029006369024878220617281087265959200\n",
      "R=\n",
      "(10653136630001047316022337480038881692291034382990068366611980260666579338636674740551296245144542057334407848044536130203135040894459837109103150262192749 : 10179760637405083408344391865519259337927937128059506400698246031951056664184799052482763616171868491251718435255905891666511215936437619234434591565991908*g + 5089880318702541704172195932759629668963968564029753200349123015975528332092399526241381808085934245625859217627952945833255607968218809617217295782995954 : 1)\n",
      "Q=\n",
      "(9821450736836710284977411139528433461714978577120639798045921113585840578829915272094127683253189587710098147395447726466502738108912330650314342149518944 : 7761462804554316593870869450883702305256311685489309695777000418368688616511873672909661396045100590426842056435343445267578909001983961230921438563331565*g + 9899401771381580814127126714553251721174170568379753809424199076888470101590905982248759478200995553248401980594757700928054626534220900264338684104595167 : 1)\n"
     ]
    }
   ],
   "source": [
    "y2 = x^3 + L(A)*x^2 + x\n",
    "\n",
    "y = sqrt(y2)\n",
    "R = EE(x, y)\n",
    "\n",
    "cofactor = card // 49\n",
    "Q = cofactor * R\n",
    "\n",
    "print(\"E=\")\n",
    "print(EE)\n",
    "\n",
    "print(\"Card(E(Fp^2))=\")\n",
    "print(card)\n",
    "\n",
    "print(\"Cofactor=\")\n",
    "print(cofactor)\n",
    "\n",
    "print(\"R=\")\n",
    "print(R)\n",
    "\n",
    "print(\"Q=\")\n",
    "print(Q)"
   ]
  },
  {
   "cell_type": "markdown",
   "id": "7a4d14e6",
   "metadata": {},
   "source": [
    "Cube root in Fp"
   ]
  },
  {
   "cell_type": "code",
   "execution_count": 81,
   "id": "6c176b14",
   "metadata": {},
   "outputs": [
    {
     "data": {
      "text/plain": [
       "0"
      ]
     },
     "execution_count": 81,
     "metadata": {},
     "output_type": "execute_result"
    }
   ],
   "source": [
    "(p+1)%6"
   ]
  },
  {
   "cell_type": "markdown",
   "id": "5cb97325",
   "metadata": {},
   "source": [
    "Square root in Fp"
   ]
  },
  {
   "cell_type": "code",
   "execution_count": 15,
   "id": "5ead934e",
   "metadata": {},
   "outputs": [
    {
     "data": {
      "text/plain": [
       "1"
      ]
     },
     "execution_count": 15,
     "metadata": {},
     "output_type": "execute_result"
    }
   ],
   "source": [
    "x = F(344)\n",
    "e = (p^2 - 1)\n",
    "r = x ^ e\n",
    "r"
   ]
  },
  {
   "cell_type": "code",
   "execution_count": 26,
   "id": "7f267642",
   "metadata": {},
   "outputs": [],
   "source": [
    "AA = F(3296287736304577886733130303666413084295300966448568649497173503814385635774261442300641216983523441070023203876385135568683252852646714513017525919249453)\n",
    "EEE = EllipticCurve(F, [0, AA, 0, 1, 0])\n",
    "cEEE = EEE.cardinality() \n",
    "cE = E.cardinality()"
   ]
  },
  {
   "cell_type": "markdown",
   "id": "b8b11d2c",
   "metadata": {},
   "source": [
    "Test Velu"
   ]
  },
  {
   "cell_type": "code",
   "execution_count": 123,
   "id": "1fc33f17",
   "metadata": {},
   "outputs": [],
   "source": [
    "p = 12037340738208845034383383978222801137092029451270197923071397735408251586669938291587857560356890516069961904754171956588530344066457839297755929645858769\n",
    "d = 1\n",
    "E_A = 10861338504649280383859950140772947007703646408372831934324660566888732797778932142488253565145603672591944602210571423767689240032829444439469242521864171\n",
    "\n",
    "F = GF(p^d)\n",
    "E = EllipticCurve(F, [0, F(E_A), 0, 1, 0])"
   ]
  },
  {
   "cell_type": "code",
   "execution_count": 124,
   "id": "2a67db24",
   "metadata": {},
   "outputs": [
    {
     "data": {
      "text/plain": [
       "11031911315903676676546292479686257023292337222207284510800847715937420710835690059032013315773465501378952212304865854274656391092782024215519316918770858"
      ]
     },
     "execution_count": 124,
     "metadata": {},
     "output_type": "execute_result"
    }
   ],
   "source": [
    "sage: from sage.schemes.elliptic_curves.ell_curve_isogeny import compute_isogeny_kernel_polynomial\n",
    "\n",
    "# Found 17-torsion point\n",
    "x = F(8819910721916677680491538399790012508264304960998581441200773246447271330702481041896811338085584738944852512571319864683278781327228460282053418335608529)\n",
    "y = sqrt(x^3 + E_A*x^2 + x)\n",
    "P = E(x, y)\n",
    "\n",
    "phi = E.isogeny(P)\n",
    "new_E = phi.codomain()\n",
    "\n",
    "new_E.j_invariant()\n",
    "#phi.kernel_polynomial()"
   ]
  },
  {
   "cell_type": "markdown",
   "id": "de40c587",
   "metadata": {},
   "source": [
    "Manual test"
   ]
  },
  {
   "cell_type": "code",
   "execution_count": 125,
   "id": "b23ebdfa",
   "metadata": {},
   "outputs": [],
   "source": [
    "def KPS(P, l):\n",
    "    b = floor(sqrt(l-1)/2)\n",
    "    b_prime = floor((l-1)/(4*b))\n",
    "    \n",
    "    print(\"b = \", b)\n",
    "    print(\"b' = \", b_prime)\n",
    "    \n",
    "    S = [i*P for i in range(1, l-1, 2)]\n",
    "    I = [(2*b*Q)[0] for Q in S[0:b_prime]]\n",
    "    J = [Q[0] for Q in S[0:b]]\n",
    "    K = [Q[0] for Q in S[2*b*b_prime:len(S)]]\n",
    "    \n",
    "    return I, J, K"
   ]
  },
  {
   "cell_type": "code",
   "execution_count": 126,
   "id": "43d3e6b7",
   "metadata": {
    "scrolled": true
   },
   "outputs": [
    {
     "name": "stdout",
     "output_type": "stream",
     "text": [
      "b =  2\n",
      "b' =  2\n",
      "True\n",
      "True\n",
      "[11899944516699227320224054421978534403287296319131115485897934243368974642794684985244396452921998425217880434526249345255754887706084779066379170677993703, 1124716847474266071888275553620075273883821691313349044767903952829806737564269640515842770698673058063037837577473338592037989886673506473120983937839021]\n"
     ]
    }
   ],
   "source": [
    "I, J, K = KPS(P, 17)\n",
    "print((2*2*P)[0] == I[0])\n",
    "print(P[0] == J[0])\n",
    "print(I)"
   ]
  },
  {
   "cell_type": "code",
   "execution_count": 132,
   "id": "211cdfb0",
   "metadata": {},
   "outputs": [],
   "source": [
    "A.<X, Z> = PolynomialRing(F)\n",
    "E0 = (10870943329029998363267822717003568542263415443505314809665787666640708303174848766656339191345539647374096750271933037238708949274085520667004197949407544)*Z^4+(11384450970729619083766543644470196504733421281287012017108506113288082259588740597474114615112896537996469608453861664031853283193801058982774620247497688)*Z^3+(1064510812844427179843849187832180551423536071627443582764535892768848736592459178043006398484340456322507819948489794098098105410890156733572503464955908)*Z^2+(11384450970729619083766543644470196504733421281287012017108506113288082259588740597474114615112896537996469608453861664031853283193801058982774620247497688)*Z+(10870943329029998363267822717003568542263415443505314809665787666640708303174848766656339191345539647374096750271933037238708949274085520667004197949407544)\n",
    "E1 = (8782461699503355112741069743254323964350489052776160134799007423355973113505691606858794717647835057085011316322889911455316196653455989724580813899778606)*Z^4+(3205473323471596954465233859934535878459083020928605648413035436248459281896151951278534630863650251627550360451206830640135360245793665570567257761698255)*Z^3+(136306959912971673200568082966807215048439151194913447597808751081739206300864983308511974640437089792562559544782969497967011905875448107247374837539436)*Z^2+(3205473323471596954465233859934535878459083020928605648413035436248459281896151951278534630863650251627550360451206830640135360245793665570567257761698255)*Z+(8782461699503355112741069743254323964350489052776160134799007423355973113505691606858794717647835057085011316322889911455316196653455989724580813899778606)\n",
    "\n",
    "F0 = Z^2 - 2*X*Z + X^2\n",
    "F1 = -2*(X*Z^2 + Z*(X^2 + 2*E_A*X + 1) + X)\n",
    "F2 = X^2 * Z^2 - 2*X*Z + 1"
   ]
  },
  {
   "cell_type": "code",
   "execution_count": 134,
   "id": "76ce0182",
   "metadata": {},
   "outputs": [
    {
     "data": {
      "text/plain": [
       "False"
      ]
     },
     "execution_count": 134,
     "metadata": {},
     "output_type": "execute_result"
    }
   ],
   "source": [
    "E0_check = 1\n",
    "for x_j in J:\n",
    "    E0_check *= (F0(Z, x_j) + F1(Z, x_j) + F2(Z, x_j))\n",
    "E0_check == E"
   ]
  },
  {
   "cell_type": "code",
   "execution_count": 108,
   "id": "7d4877e1",
   "metadata": {},
   "outputs": [
    {
     "data": {
      "text/plain": [
       "4465577479228894083910027925691578557862001763993069079504514061037236023452596547329471568382443144065800915876127926238040050191362613866328278447584474"
      ]
     },
     "execution_count": 108,
     "metadata": {},
     "output_type": "execute_result"
    }
   ],
   "source": [
    "E1(I[0])"
   ]
  }
 ],
 "metadata": {
  "kernelspec": {
   "display_name": "SageMath 9.4",
   "language": "sage",
   "name": "sagemath"
  },
  "language_info": {
   "codemirror_mode": {
    "name": "ipython",
    "version": 3
   },
   "file_extension": ".py",
   "mimetype": "text/x-python",
   "name": "python",
   "nbconvert_exporter": "python",
   "pygments_lexer": "ipython3",
   "version": "3.10.1"
  }
 },
 "nbformat": 4,
 "nbformat_minor": 5
}
