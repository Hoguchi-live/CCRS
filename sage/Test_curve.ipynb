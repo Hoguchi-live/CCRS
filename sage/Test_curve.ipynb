{
 "cells": [
  {
   "cell_type": "code",
   "execution_count": 1,
   "id": "0e5bb6ff",
   "metadata": {},
   "outputs": [
    {
     "name": "stdout",
     "output_type": "stream",
     "text": [
      "132587905732111791814931339116520099586978126272834183842604391087132230748774895899437649985696901841186824102177194162001096436626480916767002134346799\n"
     ]
    }
   ],
   "source": [
    "p = 12037340738208845034383383978222801137092029451270197923071397735408251586669938291587857560356890516069961904754171956588530344066457839297755929645858769\n",
    "d = 1\n",
    "A = 10861338504649280383859950140772947007703646408372831934324660566888732797778932142488253565145603672591944602210571423767689240032829444439469242521864171\n",
    "\n",
    "F = GF(p^d)\n",
    "E = EllipticCurve(F, [0, F(A), 0, 1, 0])\n",
    "#card = E.cardinality(extension_degree=1)\n",
    "j = E.j_invariant()\n",
    "print(j)"
   ]
  },
  {
   "cell_type": "markdown",
   "id": "8aff5bb2",
   "metadata": {},
   "source": [
    "Tate-normal test"
   ]
  },
  {
   "cell_type": "markdown",
   "id": "9e7d1d87",
   "metadata": {},
   "source": [
    "Tate-normal conversion MG->TN"
   ]
  },
  {
   "cell_type": "code",
   "execution_count": 6,
   "id": "bcf29284",
   "metadata": {},
   "outputs": [],
   "source": [
    "#5-torsion point x-coordinate\n",
    "x = F(6714257535190311469058505831163066546639113188049406668016148216802229952393745485513488323234925878197911327993544206876221379911237178526514902239294965)"
   ]
  },
  {
   "cell_type": "code",
   "execution_count": 7,
   "id": "f58f45da",
   "metadata": {},
   "outputs": [],
   "source": [
    "# extract y^2\n",
    "y2 = x^3 + A*x^2 + x #ok"
   ]
  },
  {
   "cell_type": "code",
   "execution_count": 8,
   "id": "842ea61c",
   "metadata": {},
   "outputs": [],
   "source": [
    "# b tmp\n",
    "b2 = 3*x + A \n",
    "b3_ = 4*y2\n",
    "b4 = x*b2 + 1 + A*x\n",
    "c2 = b2 - b4^2 / b3_"
   ]
  },
  {
   "cell_type": "code",
   "execution_count": 11,
   "id": "795f306b",
   "metadata": {},
   "outputs": [
    {
     "name": "stdout",
     "output_type": "stream",
     "text": [
      "8660845500566622951656296225895598693599275158816869700884544571213820832275714424510480846763855411133406756988442604901553602443211264689866137205990327\n",
      "8660845500566622951656296225895598693599275158816869700884544571213820832275714424510480846763855411133406756988442604901553602443211264689866137205990327\n"
     ]
    }
   ],
   "source": [
    "b = -c2^3 / b3_\n",
    "c = 1 - (b4/b3_ * c2)\n",
    "print(b)\n",
    "print(2*c-1)"
   ]
  },
  {
   "cell_type": "markdown",
   "id": "25592d4c",
   "metadata": {},
   "source": [
    "Tests j-invariant TN"
   ]
  },
  {
   "cell_type": "code",
   "execution_count": 118,
   "id": "2e5e2f75",
   "metadata": {},
   "outputs": [
    {
     "data": {
      "text/plain": [
       "4589463564585650410259380671425617169933634812855847200670603880842020940698966297055658190055187019913864466799667211968322530713965527509462850113801290"
      ]
     },
     "execution_count": 118,
     "metadata": {},
     "output_type": "execute_result"
    }
   ],
   "source": [
    "# Test backward\n",
    "p = 12037340738208845034383383978222801137092029451270197923071397735408251586669938291587857560356890516069961904754171956588530344066457839297755929645858769\n",
    "d = 1\n",
    "\n",
    "a1, a2, a3, a4, a6 = F(1-c), F(-b), F(-b), 0, 0\n",
    "\n",
    "F = GF(p^d)\n",
    "E = EllipticCurve(F, [a1, a2, a3, a4, a6])\n",
    "E.j_invariant()"
   ]
  },
  {
   "cell_type": "code",
   "execution_count": 59,
   "id": "b559567e",
   "metadata": {},
   "outputs": [
    {
     "name": "stdout",
     "output_type": "stream",
     "text": [
      "2177965906346820546622289165985252855082830520624254472180011149569213818587672644125721921690465872772640726680369027740180771313650327887032140433302902\n",
      "2900468266478823093268655446350012085567490245893724033982557036030648710753589522592112163553413342174378428815451231603539787040845168649974521702431860\n",
      "9002907216636570106833580216479614011136765116854078677220295896117303411941819034513866838887292792767659107435876679277510478738744532684218300748765740\n"
     ]
    }
   ],
   "source": [
    "b2 = a1^2+4*a2 #ok\n",
    "print(b2)\n",
    "b4 = a1*a3 #ok\n",
    "print(b4)\n",
    "b6 = a3^2 #ok\n",
    "print(b6)\n",
    "b8 = a2*a3^2 #ok\n",
    "c4 = b2^2-24*b4 #ok\n",
    "c6 = -b2^3 + 36*b2*b4 - 216*b6 #ok\n",
    "delta = -b2^2*b8 - 8*b4^3 - 27*b6^2 + 9*b2*b4*b6 #ok"
   ]
  },
  {
   "cell_type": "code",
   "execution_count": 47,
   "id": "148c9ded",
   "metadata": {},
   "outputs": [
    {
     "name": "stdout",
     "output_type": "stream",
     "text": [
      "4621608562215974359380835383234658712235602541245690364243793996635597149019192881159172371554354768449064186310165618237055686868745123318283566259631724\n"
     ]
    }
   ],
   "source": [
    "j = c4^3 / delta #ok\n",
    "test = 1728*delta - (c4^3 - c6^2) #ok\n",
    "print(j)"
   ]
  }
 ],
 "metadata": {
  "kernelspec": {
   "display_name": "SageMath 9.4",
   "language": "sage",
   "name": "sagemath"
  },
  "language_info": {
   "codemirror_mode": {
    "name": "ipython",
    "version": 3
   },
   "file_extension": ".py",
   "mimetype": "text/x-python",
   "name": "python",
   "nbconvert_exporter": "python",
   "pygments_lexer": "ipython3",
   "version": "3.10.1"
  }
 },
 "nbformat": 4,
 "nbformat_minor": 5
}
