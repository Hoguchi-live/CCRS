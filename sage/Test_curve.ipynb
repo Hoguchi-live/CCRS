{
 "cells": [
  {
   "cell_type": "code",
   "execution_count": 2,
   "id": "0e5bb6ff",
   "metadata": {},
   "outputs": [
    {
     "name": "stdout",
     "output_type": "stream",
     "text": [
      "132587905732111791814931339116520099586978126272834183842604391087132230748774895899437649985696901841186824102177194162001096436626480916767002134346799\n"
     ]
    }
   ],
   "source": [
    "p = 12037340738208845034383383978222801137092029451270197923071397735408251586669938291587857560356890516069961904754171956588530344066457839297755929645858769\n",
    "d = 1\n",
    "A = 10861338504649280383859950140772947007703646408372831934324660566888732797778932142488253565145603672591944602210571423767689240032829444439469242521864171\n",
    "\n",
    "F = GF(p^d)\n",
    "E = EllipticCurve(F, [0, F(A), 0, 1, 0])\n",
    "#card = E.cardinality(extension_degree=1)\n",
    "j = E.j_invariant()\n",
    "print(j)"
   ]
  },
  {
   "cell_type": "markdown",
   "id": "d791cc24",
   "metadata": {},
   "source": [
    "Tate-normal test"
   ]
  },
  {
   "cell_type": "markdown",
   "id": "4b2dd3c9",
   "metadata": {},
   "source": [
    "Tate-normal conversion MG->TN"
   ]
  },
  {
   "cell_type": "code",
   "execution_count": 3,
   "id": "b6137dbb",
   "metadata": {},
   "outputs": [],
   "source": [
    "#5-torsion point x-coordinate\n",
    "x = F(6714257535190311469058505831163066546639113188049406668016148216802229952393745485513488323234925878197911327993544206876221379911237178526514902239294965)"
   ]
  },
  {
   "cell_type": "code",
   "execution_count": 4,
   "id": "dc577e28",
   "metadata": {},
   "outputs": [],
   "source": [
    "# extract y^2\n",
    "y2 = x^3 + A*x^2 + x #ok"
   ]
  },
  {
   "cell_type": "code",
   "execution_count": 24,
   "id": "25e94a0d",
   "metadata": {},
   "outputs": [],
   "source": [
    "# b tmp\n",
    "b2 = 3*x + A \n",
    "b3_ = 4*y2\n",
    "b4 = 3*x^2 + 2*A*x + 1\n",
    "c2 = b2 - b4^2 / b3_"
   ]
  },
  {
   "cell_type": "code",
   "execution_count": 27,
   "id": "c4c81936",
   "metadata": {},
   "outputs": [],
   "source": [
    "b = -c2^3 / b3_\n",
    "c = 1 - 2*(b4/b3_ * c2)"
   ]
  },
  {
   "cell_type": "markdown",
   "id": "92a719de",
   "metadata": {},
   "source": [
    "Tests j-invariant TN"
   ]
  },
  {
   "cell_type": "code",
   "execution_count": 74,
   "id": "f71b6f8d",
   "metadata": {},
   "outputs": [
    {
     "data": {
      "text/plain": [
       "132587905732111791814931339116520099586978126272834183842604391087132230748774895899437649985696901841186824102177194162001096436626480916767002134346799"
      ]
     },
     "execution_count": 74,
     "metadata": {},
     "output_type": "execute_result"
    }
   ],
   "source": [
    "a1, a2, a3, a4, a6 = F(1-c), F(-b), F(-b), 0, 0\n",
    "\n",
    "F = GF(p^d)\n",
    "E = EllipticCurve(F, [a1, a2, a3, a4, a6])\n",
    "E.j_invariant()"
   ]
  },
  {
   "cell_type": "markdown",
   "id": "2ea88b0d",
   "metadata": {},
   "source": [
    "Test C j-invariant TN"
   ]
  },
  {
   "cell_type": "code",
   "execution_count": 30,
   "id": "40112941",
   "metadata": {
    "scrolled": true
   },
   "outputs": [
    {
     "name": "stdout",
     "output_type": "stream",
     "text": [
      "10753861862557066429304319208911358532797888169671229794428615778672042102855458401555554209813267493274351686419265945058789285871574396635222617485925971\n",
      "5908726412554801050052264425498147452426146158674786606565747693108139917554277357756528202204982484661537852344791143212435921821799362893529584932442529\n",
      "2532231174912578967325176673170945008933391866221458384378894528913709163160053490679151488611947379724982704579061791525459180198552788285639792492574087\n"
     ]
    }
   ],
   "source": [
    "b2 = a1^2+4*a2 #ok\n",
    "print(b2)\n",
    "b4 = a1*a3 #ok\n",
    "print(b4)\n",
    "b6 = a3^2 #ok\n",
    "print(b6)\n",
    "b8 = a2*a3^2 #ok\n",
    "c4 = b2^2-24*b4 #ok\n",
    "c6 = -b2^3 + 36*b2*b4 - 216*b6 #ok\n",
    "delta = -b2^2*b8 - 8*b4^3 - 27*b6^2 + 9*b2*b4*b6 #ok"
   ]
  },
  {
   "cell_type": "code",
   "execution_count": 73,
   "id": "469d70a4",
   "metadata": {},
   "outputs": [
    {
     "name": "stdout",
     "output_type": "stream",
     "text": [
      "11900105345366388829473623683554384252983944458512462682506385469611277878471801909262594105185254590327230830942541496702001622160669226685597322057516105\n"
     ]
    }
   ],
   "source": [
    "j = c4^3 / delta #ok\n",
    "test = 1728*delta - (c4^3 - c6^2) #ok\n",
    "print(j)"
   ]
  },
  {
   "cell_type": "markdown",
   "id": "00e23bb5",
   "metadata": {},
   "source": [
    "Going up TN -> MG"
   ]
  },
  {
   "cell_type": "code",
   "execution_count": 133,
   "id": "4efc5056",
   "metadata": {},
   "outputs": [],
   "source": [
    "b2 = (1-c)^2 / 4 -b\n",
    "b4 = (c-1)*b/2\n",
    "b6 = b^2/4"
   ]
  },
  {
   "cell_type": "code",
   "execution_count": 138,
   "id": "a7ff8d1a",
   "metadata": {
    "scrolled": true
   },
   "outputs": [
    {
     "name": "stdout",
     "output_type": "stream",
     "text": [
      "[(7462789949450932695620374038371835606282246905291836075128419768909425920498046775604393231313568437288021365223471081098162248436320989028424535434429452, 1), (6850504746178323092941441075297900162495180813019592282009782386657086504577892451247034349615984479079720554141283449665027132107444317875339142966935538, 1), (4063586130596956414283027045992326587934151778993610559629589936729917325882588183038434597241688613436103492350229907002041400104642312708503544107406363, 1)]\n"
     ]
    }
   ],
   "source": [
    "A.<X> = PolynomialRing(F)\n",
    "P = X^3 + b2*X^2 + b4*X + b6\n",
    "r = [u[0] for u in P.roots()]\n",
    "print(P.roots())"
   ]
  },
  {
   "cell_type": "code",
   "execution_count": 128,
   "id": "8e5a6acd",
   "metadata": {},
   "outputs": [
    {
     "name": "stdout",
     "output_type": "stream",
     "text": [
      "False\n",
      "False\n",
      "True\n",
      "found x=  4063586130596956414283027045992326587934151778993610559629589936729917325882588183038434597241688613436103492350229907002041400104642312708503544107406363\n",
      "found x=  4063586130596956414283027045992326587934151778993610559629589936729917325882588183038434597241688613436103492350229907002041400104642312708503544107406363\n"
     ]
    }
   ],
   "source": [
    "for x in r:\n",
    "    d2 = 3*x + b2\n",
    "    d4 = 3*x^2 + 2*b2*x + b4\n",
    "    \n",
    "    tmp = d4\n",
    "    Q = X^2 - tmp\n",
    "    \n",
    "    T = P.derivative()\n",
    "    print(T(x).is_square())\n",
    "    \n",
    "    rr = [r[0] for r in Q.roots()]\n",
    "    if len(rr):\n",
    "        for alpha in rr:\n",
    "            e2 = d2 / alpha\n",
    "            e4 = 1\n",
    "            G = EllipticCurve(F, [0, d2, 0, d4, 0])\n",
    "            tmp2 = alpha^3\n",
    "            print(\"found x= \", x)\n",
    "            #print(G.j_invariant())\n",
    "            #print(tmp2.is_square())\n",
    "    else:\n",
    "        pass\n",
    "        #print(\"failed: no roots for d4\")"
   ]
  }
 ],
 "metadata": {
  "kernelspec": {
   "display_name": "SageMath 9.4",
   "language": "sage",
   "name": "sagemath"
  },
  "language_info": {
   "codemirror_mode": {
    "name": "ipython",
    "version": 3
   },
   "file_extension": ".py",
   "mimetype": "text/x-python",
   "name": "python",
   "nbconvert_exporter": "python",
   "pygments_lexer": "ipython3",
   "version": "3.10.1"
  }
 },
 "nbformat": 4,
 "nbformat_minor": 5
}
